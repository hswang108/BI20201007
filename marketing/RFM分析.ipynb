{
 "cells": [
  {
   "cell_type": "markdown",
   "metadata": {
    "id": "udrzu3jPHIMc"
   },
   "source": [
    "# RFM 分析\n",
    "\n",
    "使用 UCI Online Retail 資料集\n",
    "\n",
    "* [https://archive.ics.uci.edu/ml/datasets/Online+Retail](https://archive.ics.uci.edu/ml/datasets/Online+Retail)\n",
    "\n",
    "參考資料：\n",
    "\n",
    "* https://en.wikipedia.org/wiki/RFM_(market_research)"
   ]
  },
  {
   "cell_type": "markdown",
   "metadata": {
    "id": "Y92fFsIzU34-"
   },
   "source": [
    "## 下載資料集"
   ]
  },
  {
   "cell_type": "code",
   "execution_count": null,
   "metadata": {
    "colab": {
     "base_uri": "https://localhost:8080/",
     "height": 231
    },
    "id": "E2jj5FSxE_Ae",
    "outputId": "eda843b0-16d3-45fd-cfa1-99658d64bbef"
   },
   "outputs": [],
   "source": [
    "# 在colab中可以用這個\n",
    "!wget https://archive.ics.uci.edu/ml/machine-learning-databases/00352/Online%20Retail.xlsx"
   ]
  },
  {
   "cell_type": "code",
   "execution_count": null,
   "metadata": {},
   "outputs": [],
   "source": [
    "# 在windows上，用這個試試看\n",
    "!curl -o \"Online Retail.xlsx\" https://archive.ics.uci.edu/ml/machine-learning-databases/00352/Online%20Retail.xlsx"
   ]
  },
  {
   "cell_type": "markdown",
   "metadata": {
    "id": "sY7Pq8F_U9l1"
   },
   "source": [
    "## 讀取資料集"
   ]
  },
  {
   "cell_type": "code",
   "execution_count": null,
   "metadata": {
    "id": "5is4XLYtHLpC"
   },
   "outputs": [],
   "source": [
    "import pandas as pd\n",
    "import numpy as np"
   ]
  },
  {
   "cell_type": "code",
   "execution_count": null,
   "metadata": {
    "id": "oNBiN4f3H9VL"
   },
   "outputs": [],
   "source": [
    "Retail_df = pd.read_excel(\"Online Retail.xlsx\")"
   ]
  },
  {
   "cell_type": "code",
   "execution_count": null,
   "metadata": {
    "id": "NC2815QgIBr8"
   },
   "outputs": [],
   "source": [
    "Retail_df['amount'] = Retail_df['Quantity']*Retail_df['UnitPrice']"
   ]
  },
  {
   "cell_type": "code",
   "execution_count": null,
   "metadata": {
    "colab": {
     "base_uri": "https://localhost:8080/",
     "height": 168
    },
    "id": "2RrV3VwNIp2A",
    "outputId": "1aa8cfa2-2bd6-4812-e5ac-18ff0950e833"
   },
   "outputs": [],
   "source": [
    "Retail_df.head(1)"
   ]
  },
  {
   "cell_type": "code",
   "execution_count": null,
   "metadata": {
    "colab": {
     "base_uri": "https://localhost:8080/",
     "height": 299
    },
    "id": "rvpg9mcpI10d",
    "outputId": "f5ceb09a-a925-4f5d-82a4-df603c91cb65"
   },
   "outputs": [],
   "source": [
    "Retail_df.info()"
   ]
  },
  {
   "cell_type": "code",
   "execution_count": null,
   "metadata": {
    "colab": {
     "base_uri": "https://localhost:8080/",
     "height": 35
    },
    "id": "D02nqNIAI8ti",
    "outputId": "1774d908-bc7d-49b2-eff0-0352a461af20"
   },
   "outputs": [],
   "source": [
    "Retail_df['InvoiceDate'].min()"
   ]
  },
  {
   "cell_type": "code",
   "execution_count": null,
   "metadata": {
    "colab": {
     "base_uri": "https://localhost:8080/",
     "height": 35
    },
    "id": "oHOQki4lJB2m",
    "outputId": "da0b97ba-424c-4820-894d-5acd4ebe4f1e"
   },
   "outputs": [],
   "source": [
    "Retail_df['InvoiceDate'].max()"
   ]
  },
  {
   "cell_type": "markdown",
   "metadata": {
    "id": "ajezUDX7VDNe"
   },
   "source": [
    "## 刪除缺失值"
   ]
  },
  {
   "cell_type": "code",
   "execution_count": null,
   "metadata": {
    "id": "xzo877ToJF3W"
   },
   "outputs": [],
   "source": [
    "df = Retail_df[Retail_df['CustomerID'].notnull()]"
   ]
  },
  {
   "cell_type": "code",
   "execution_count": null,
   "metadata": {
    "id": "Th8VVc3eKmGx"
   },
   "outputs": [],
   "source": [
    "ref_date = df['InvoiceDate'].max()"
   ]
  },
  {
   "cell_type": "markdown",
   "metadata": {
    "id": "KA09CoV9VKdU"
   },
   "source": [
    "## 計算 R, F, M 值"
   ]
  },
  {
   "cell_type": "code",
   "execution_count": null,
   "metadata": {
    "id": "-dtwov3vK5R-"
   },
   "outputs": [],
   "source": [
    "# 計算最近一次購買時間\n",
    "recency = df['InvoiceDate'].groupby(df['CustomerID']).max()\n",
    "# 計算購買的次數\n",
    "frequency = df['InvoiceDate'].groupby(df['CustomerID']).count()\n",
    "# 計算購買的金額\n",
    "monetary = df['amount'].groupby(df['CustomerID']).sum()"
   ]
  },
  {
   "cell_type": "code",
   "execution_count": null,
   "metadata": {
    "id": "SqZZjM9CLe5-"
   },
   "outputs": [],
   "source": [
    "# 計算上一次購買間隔天數(幾天前)\n",
    "r_interval = (ref_date - recency).dt.days"
   ]
  },
  {
   "cell_type": "code",
   "execution_count": null,
   "metadata": {
    "id": "gIF9LuE8OWqf"
   },
   "outputs": [],
   "source": [
    "# 計算 R, F, M 值\n",
    "r_score = pd.cut(r_interval, 5, labels=[5, 4, 3, 2, 1])\n",
    "f_score = pd.cut(frequency, 5, labels=[1, 2, 3, 4, 5])\n",
    "m_score = pd.cut(monetary, 5, labels=[1, 2, 3, 4, 5])"
   ]
  },
  {
   "cell_type": "code",
   "execution_count": null,
   "metadata": {},
   "outputs": [],
   "source": [
    "# 合併Series成DataFrame: 方法一\n",
    "rfm = {'r_score':r_score, 'f_score':f_score, 'm_score':m_score}\n",
    "rfm_df = pd.DataFrame(rfm)"
   ]
  },
  {
   "cell_type": "code",
   "execution_count": null,
   "metadata": {
    "id": "u-W72YiHLuRd"
   },
   "outputs": [],
   "source": [
    "# 合併Series成DataFrame: 方法二\n",
    "rfm_df = pd.concat([r_score, f_score, m_score], axis=1)\n",
    "rfm_df.columns = ['r_score', 'f_score', 'm_score']"
   ]
  },
  {
   "cell_type": "code",
   "execution_count": null,
   "metadata": {},
   "outputs": [],
   "source": [
    "rfm_df.info()"
   ]
  },
  {
   "cell_type": "code",
   "execution_count": null,
   "metadata": {
    "id": "Cvru9qf6UdMt"
   },
   "outputs": [],
   "source": [
    "rfm_df = rfm_df.astype(int)"
   ]
  },
  {
   "cell_type": "code",
   "execution_count": null,
   "metadata": {
    "colab": {
     "base_uri": "https://localhost:8080/",
     "height": 233
    },
    "id": "I9AAHFYyQGKh",
    "outputId": "efdc2303-0036-475c-bcb1-20070b34ad95"
   },
   "outputs": [],
   "source": [
    "rfm_df.head()"
   ]
  },
  {
   "cell_type": "code",
   "execution_count": null,
   "metadata": {
    "colab": {
     "base_uri": "https://localhost:8080/",
     "height": 193
    },
    "id": "pKk4KpSGT7fy",
    "outputId": "58092482-1d5c-45b5-b7df-bd58aeb64596"
   },
   "outputs": [],
   "source": [
    "rfm_df.info()"
   ]
  },
  {
   "cell_type": "markdown",
   "metadata": {
    "id": "u4dIRGuCRXOT"
   },
   "source": [
    "## 計算 RFM 總分\n",
    "\n",
    "兩種方式：\n",
    "\n",
    "* 直接評估 R, F, M 的重要性，再做加權平均成為一個數字。\n",
    "* 直接串接 R, F, M 各自的值，秀出一個字串。"
   ]
  },
  {
   "cell_type": "code",
   "execution_count": null,
   "metadata": {
    "id": "wqRCgY3NMJH8"
   },
   "outputs": [],
   "source": [
    "# 方法一：加權平均\n",
    "rfm_df['rfm_score'] = rfm_df['r_score'] * 0.5 + rfm_df['f_score'] * 0.3 + rfm_df['m_score'] * 0.2"
   ]
  },
  {
   "cell_type": "code",
   "execution_count": null,
   "metadata": {
    "id": "qNeXMYr5Tdxt"
   },
   "outputs": [],
   "source": [
    "# 方法二：RFM组合\n",
    "rfm_df_tmp = rfm_df.copy()\n",
    "rfm_df_tmp['r_score'] = rfm_df_tmp['r_score'].astype('str')\n",
    "rfm_df_tmp['f_score'] = rfm_df_tmp['f_score'].astype('str')\n",
    "rfm_df_tmp['m_score'] = rfm_df_tmp['m_score'].astype('str')\n",
    "rfm_df['rfm_comb'] = rfm_df_tmp['r_score']+rfm_df_tmp['f_score']+rfm_df_tmp['m_score']"
   ]
  },
  {
   "cell_type": "code",
   "execution_count": null,
   "metadata": {
    "colab": {
     "base_uri": "https://localhost:8080/",
     "height": 233
    },
    "id": "xWbZFpt5NVsV",
    "outputId": "f1c45c60-fb36-47f7-d108-894b86c899c8"
   },
   "outputs": [],
   "source": [
    "rfm_df.head()"
   ]
  },
  {
   "cell_type": "code",
   "execution_count": null,
   "metadata": {
    "colab": {
     "base_uri": "https://localhost:8080/",
     "height": 447
    },
    "id": "KsS3haqYMLWj",
    "outputId": "91553dc4-33a3-4b63-e431-f7d4b8e6b9ac"
   },
   "outputs": [],
   "source": [
    "rfm_df.sort_values('rfm_score', ascending=False)"
   ]
  }
 ],
 "metadata": {
  "colab": {
   "collapsed_sections": [],
   "name": "RFM分析.ipynb",
   "provenance": []
  },
  "kernelspec": {
   "display_name": "Python 3",
   "language": "python",
   "name": "python3"
  },
  "language_info": {
   "codemirror_mode": {
    "name": "ipython",
    "version": 3
   },
   "file_extension": ".py",
   "mimetype": "text/x-python",
   "name": "python",
   "nbconvert_exporter": "python",
   "pygments_lexer": "ipython3",
   "version": "3.8.3"
  }
 },
 "nbformat": 4,
 "nbformat_minor": 4
}
